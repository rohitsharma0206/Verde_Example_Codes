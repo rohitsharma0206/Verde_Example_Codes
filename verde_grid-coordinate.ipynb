{
 "cells": [
  {
   "cell_type": "code",
   "execution_count": 1,
   "metadata": {},
   "outputs": [],
   "source": [
    "%matplotlib inline"
   ]
  },
  {
   "cell_type": "markdown",
   "metadata": {},
   "source": [
    "\n",
    "\n",
    "# Grid Coordinates\n",
    "\n"
   ]
  },
  {
   "cell_type": "code",
   "execution_count": 3,
   "metadata": {},
   "outputs": [],
   "source": [
    "import numpy as np\n",
    "import matplotlib.pyplot as plt\n",
    "import verde as vd\n",
    "from matplotlib.patches import Rectangle"
   ]
  },
  {
   "cell_type": "markdown",
   "metadata": {},
   "source": [
    "First let's create a region that is 1000 units west-east and 1000 units south-north,\n",
    "and we will set an initial spacing to 100 units.\n",
    "\n"
   ]
  },
  {
   "cell_type": "code",
   "execution_count": 4,
   "metadata": {},
   "outputs": [],
   "source": [
    "spacing = 100\n",
    "west, east, south, north = 0, 1000, 0, 1000\n",
    "region = (west, east, south, north)\n",
    "\n",
    "# create the grid coordinates\n",
    "easting, northing = vd.grid_coordinates(region=region, spacing=spacing)"
   ]
  },
  {
   "cell_type": "code",
   "execution_count": 5,
   "metadata": {},
   "outputs": [
    {
     "name": "stdout",
     "output_type": "stream",
     "text": [
      "(11, 11) (11, 11)\n"
     ]
    }
   ],
   "source": [
    "print(easting.shape, northing.shape)"
   ]
  },
  {
   "cell_type": "markdown",
   "metadata": {},
   "source": [
    "Let's define two functions to visualize the region bounds and grid points\n",
    "\n"
   ]
  },
  {
   "cell_type": "code",
   "execution_count": 6,
   "metadata": {},
   "outputs": [],
   "source": [
    "def plot_region(ax, region):\n",
    "    \"Plot the region as a solid line.\"\n",
    "    west, east, south, north = region\n",
    "    ax.add_patch(\n",
    "        plt.Rectangle((west, south), east, north, fill=None, label=\"Region Bounds\")\n",
    "    )\n",
    "\n",
    "\n",
    "def plot_grid(ax, coordinates, linestyles=\"dotted\", region=None, pad=50, **kwargs):\n",
    "    \"Plot the grid coordinates as dots and lines.\"\n",
    "    data_region = vd.get_region(coordinates)\n",
    "    ax.vlines(\n",
    "        coordinates[0][0],\n",
    "        ymin=data_region[2],\n",
    "        ymax=data_region[3],\n",
    "        linestyles=linestyles,\n",
    "        zorder=0,\n",
    "    )\n",
    "    ax.hlines(\n",
    "        coordinates[1][:, 1],\n",
    "        xmin=data_region[0],\n",
    "        xmax=data_region[1],\n",
    "        linestyles=linestyles,\n",
    "        zorder=0,\n",
    "    )\n",
    "    ax.scatter(*coordinates, **kwargs)\n",
    "    if pad:\n",
    "        padded = vd.pad_region(region, pad=pad)\n",
    "        plt.xlim(padded[:2])\n",
    "        plt.ylim(padded[2:])"
   ]
  },
  {
   "cell_type": "markdown",
   "metadata": {},
   "source": [
    "Visualize our region and grid coordinates using our functions\n",
    "\n"
   ]
  },
  {
   "cell_type": "code",
   "execution_count": 7,
   "metadata": {},
   "outputs": [
    {
     "data": {
      "image/png": "[encoded data removed]",
      "text/plain": [
       "<Figure size 432x432 with 1 Axes>"
      ]
     },
     "metadata": {
      "needs_background": "light"
     },
     "output_type": "display_data"
    }
   ],
   "source": [
    "plt.figure(figsize=(6, 6))\n",
    "ax = plt.subplot(111)\n",
    "plot_region(ax=ax, region=region)\n",
    "plot_grid(\n",
    "    ax=ax,\n",
    "    coordinates=(easting, northing),\n",
    "    region=region,\n",
    "    label=\"Square Region Grid Nodes\",\n",
    "    marker=\".\",\n",
    "    color=\"black\",\n",
    "    s=100,\n",
    ")\n",
    "\n",
    "plt.xlabel(\"Easting\")\n",
    "plt.ylabel(\"Northing\")\n",
    "plt.legend(loc=\"upper center\", bbox_to_anchor=(0.5, 1.15))\n",
    "plt.show()"
   ]
  },
  {
   "cell_type": "markdown",
   "metadata": {},
   "source": [
    "## Adjusting region boundaries when creating the grid coordinates\n",
    "\n",
    "Now let's change our spacing to 300 units.\n",
    "\n",
    "We could tell :func:`verde.grid_coordinates` to adjust the region boundaries by\n",
    "passing ``adjust=\"region\"``.\n",
    "\n"
   ]
  },
  {
   "cell_type": "code",
   "execution_count": 8,
   "metadata": {},
   "outputs": [
    {
     "name": "stdout",
     "output_type": "stream",
     "text": [
      "(4, 4) (4, 4)\n"
     ]
    }
   ],
   "source": [
    "spacing = 300\n",
    "region_easting, region_northing = vd.grid_coordinates(\n",
    "    region=region, spacing=spacing, adjust=\"region\"\n",
    ")\n",
    "print(region_easting.shape, region_northing.shape)"
   ]
  },
  {
   "cell_type": "code",
   "execution_count": 9,
   "metadata": {},
   "outputs": [
    {
     "name": "stdout",
     "output_type": "stream",
     "text": [
      "[[  0. 300. 600. 900.]\n",
      " [  0. 300. 600. 900.]\n",
      " [  0. 300. 600. 900.]\n",
      " [  0. 300. 600. 900.]]\n",
      "[[  0.   0.   0.   0.]\n",
      " [300. 300. 300. 300.]\n",
      " [600. 600. 600. 600.]\n",
      " [900. 900. 900. 900.]]\n"
     ]
    }
   ],
   "source": [
    "print(region_easting)\n",
    "print(region_northing)"
   ]
  },
  {
   "cell_type": "markdown",
   "metadata": {},
   "source": [
    "## Adjusting spacing when creating the grid\n",
    "\n",
    "Now let's adjust the spacing of the grid points by passing ``adjust=\"spacing\"``\n",
    "to :func:`verde.grid_coordinates`.\n",
    "\n"
   ]
  },
  {
   "cell_type": "code",
   "execution_count": 10,
   "metadata": {},
   "outputs": [
    {
     "name": "stdout",
     "output_type": "stream",
     "text": [
      "(4, 4) (4, 4)\n"
     ]
    }
   ],
   "source": [
    "spacing_easting, spacing_northing = vd.grid_coordinates(\n",
    "    region=region, spacing=spacing, adjust=\"spacing\"\n",
    ")\n",
    "print(spacing_easting.shape, spacing_northing.shape)"
   ]
  },
  {
   "cell_type": "markdown",
   "metadata": {},
   "source": [
    "However the regular spacing between the grid points is no longer 300 units.\n",
    "\n"
   ]
  },
  {
   "cell_type": "code",
   "execution_count": 11,
   "metadata": {},
   "outputs": [
    {
     "name": "stdout",
     "output_type": "stream",
     "text": [
      "[[   0.          333.33333333  666.66666667 1000.        ]\n",
      " [   0.          333.33333333  666.66666667 1000.        ]\n",
      " [   0.          333.33333333  666.66666667 1000.        ]\n",
      " [   0.          333.33333333  666.66666667 1000.        ]]\n",
      "[[   0.            0.            0.            0.        ]\n",
      " [ 333.33333333  333.33333333  333.33333333  333.33333333]\n",
      " [ 666.66666667  666.66666667  666.66666667  666.66666667]\n",
      " [1000.         1000.         1000.         1000.        ]]\n"
     ]
    }
   ],
   "source": [
    "print(spacing_easting)\n",
    "print(spacing_northing)"
   ]
  },
  {
   "cell_type": "markdown",
   "metadata": {},
   "source": [
    "## Visualize the different adjustments\n",
    "\n",
    "Let's visualize the difference between the original region bounds, the\n",
    "adjusted region grid nodes, and the adjusted spacing grid nodes.\n"
   ]
  },
  {
   "cell_type": "code",
   "execution_count": 12,
   "metadata": {},
   "outputs": [
    {
     "data": {
      "image/png": "[encoded data removed]",
      "text/plain": [
       "<Figure size 432x432 with 1 Axes>"
      ]
     },
     "metadata": {
      "needs_background": "light"
     },
     "output_type": "display_data"
    }
   ],
   "source": [
    "plt.figure(figsize=(6, 6))\n",
    "ax = plt.subplot(111)\n",
    "plot_region(ax=ax, region=region)\n",
    "plot_grid(\n",
    "    ax=ax,\n",
    "    coordinates=(region_easting, region_northing),\n",
    "    region=region,\n",
    "    label=\"Adjusted Region Grid Nodes\",\n",
    "    marker=\">\",\n",
    "    color=\"blue\",\n",
    "    alpha=0.75,\n",
    "    s=100,\n",
    ")\n",
    "plot_grid(\n",
    "    ax=ax,\n",
    "    coordinates=(spacing_easting, spacing_northing),\n",
    "    region=region,\n",
    "    label=\"Adjusted Spacing Grid Nodes\",\n",
    "    marker=\">\",\n",
    "    color=\"orange\",\n",
    "    alpha=0.75,\n",
    "    s=100,\n",
    ")\n",
    "plt.xlabel(\"Easting\")\n",
    "plt.ylabel(\"Northing\")\n",
    "plt.legend(loc=\"upper center\", bbox_to_anchor=(0.5, 1.18))\n",
    "plt.show()"
   ]
  },
  {
   "cell_type": "markdown",
   "metadata": {},
   "source": [
    "## Pixel Registration\n",
    "\n",
    "Pixel registration locates the grid points in the middle of the grid segments\n",
    "rather than in the corner of each grid node.\n",
    "\n"
   ]
  },
  {
   "cell_type": "code",
   "execution_count": 13,
   "metadata": {},
   "outputs": [
    {
     "name": "stdout",
     "output_type": "stream",
     "text": [
      "(10, 10) (10, 10)\n"
     ]
    }
   ],
   "source": [
    "spacing = 100\n",
    "pixel_easting, pixel_northing = vd.grid_coordinates(\n",
    "    region=region, spacing=spacing, pixel_register=True\n",
    ")\n",
    "print(pixel_easting.shape, pixel_northing.shape)"
   ]
  },
  {
   "cell_type": "markdown",
   "metadata": {},
   "source": [
    "And we can check the coordinates for the grid points with pixel registration.\n",
    "\n"
   ]
  },
  {
   "cell_type": "code",
   "execution_count": 14,
   "metadata": {},
   "outputs": [
    {
     "name": "stdout",
     "output_type": "stream",
     "text": [
      "[[ 50. 150. 250. 350. 450. 550. 650. 750. 850. 950.]\n",
      " [ 50. 150. 250. 350. 450. 550. 650. 750. 850. 950.]\n",
      " [ 50. 150. 250. 350. 450. 550. 650. 750. 850. 950.]\n",
      " [ 50. 150. 250. 350. 450. 550. 650. 750. 850. 950.]\n",
      " [ 50. 150. 250. 350. 450. 550. 650. 750. 850. 950.]\n",
      " [ 50. 150. 250. 350. 450. 550. 650. 750. 850. 950.]\n",
      " [ 50. 150. 250. 350. 450. 550. 650. 750. 850. 950.]\n",
      " [ 50. 150. 250. 350. 450. 550. 650. 750. 850. 950.]\n",
      " [ 50. 150. 250. 350. 450. 550. 650. 750. 850. 950.]\n",
      " [ 50. 150. 250. 350. 450. 550. 650. 750. 850. 950.]]\n",
      "[[ 50.  50.  50.  50.  50.  50.  50.  50.  50.  50.]\n",
      " [150. 150. 150. 150. 150. 150. 150. 150. 150. 150.]\n",
      " [250. 250. 250. 250. 250. 250. 250. 250. 250. 250.]\n",
      " [350. 350. 350. 350. 350. 350. 350. 350. 350. 350.]\n",
      " [450. 450. 450. 450. 450. 450. 450. 450. 450. 450.]\n",
      " [550. 550. 550. 550. 550. 550. 550. 550. 550. 550.]\n",
      " [650. 650. 650. 650. 650. 650. 650. 650. 650. 650.]\n",
      " [750. 750. 750. 750. 750. 750. 750. 750. 750. 750.]\n",
      " [850. 850. 850. 850. 850. 850. 850. 850. 850. 850.]\n",
      " [950. 950. 950. 950. 950. 950. 950. 950. 950. 950.]]\n"
     ]
    }
   ],
   "source": [
    "print(pixel_easting)\n",
    "print(pixel_northing)"
   ]
  },
  {
   "cell_type": "markdown",
   "metadata": {},
   "source": [
    "If we set ``pixel_register`` to ``False`` the function will return the grid\n",
    "coordinates of the nodes instead of pixel centers, resulting in an extra point in each direction.\n",
    "\n"
   ]
  },
  {
   "cell_type": "code",
   "execution_count": 15,
   "metadata": {},
   "outputs": [
    {
     "name": "stdout",
     "output_type": "stream",
     "text": [
      "(11, 11) (11, 11)\n"
     ]
    }
   ],
   "source": [
    "easting, northing = vd.grid_coordinates(\n",
    "    region=region, spacing=spacing, pixel_register=False\n",
    ")\n",
    "print(easting.shape, northing.shape)"
   ]
  },
  {
   "cell_type": "markdown",
   "metadata": {},
   "source": [
    "Again we can check the coordinates for grid points with spacing adjustment.\n",
    "\n"
   ]
  },
  {
   "cell_type": "code",
   "execution_count": 16,
   "metadata": {},
   "outputs": [
    {
     "name": "stdout",
     "output_type": "stream",
     "text": [
      "[[   0.  100.  200.  300.  400.  500.  600.  700.  800.  900. 1000.]\n",
      " [   0.  100.  200.  300.  400.  500.  600.  700.  800.  900. 1000.]\n",
      " [   0.  100.  200.  300.  400.  500.  600.  700.  800.  900. 1000.]\n",
      " [   0.  100.  200.  300.  400.  500.  600.  700.  800.  900. 1000.]\n",
      " [   0.  100.  200.  300.  400.  500.  600.  700.  800.  900. 1000.]\n",
      " [   0.  100.  200.  300.  400.  500.  600.  700.  800.  900. 1000.]\n",
      " [   0.  100.  200.  300.  400.  500.  600.  700.  800.  900. 1000.]\n",
      " [   0.  100.  200.  300.  400.  500.  600.  700.  800.  900. 1000.]\n",
      " [   0.  100.  200.  300.  400.  500.  600.  700.  800.  900. 1000.]\n",
      " [   0.  100.  200.  300.  400.  500.  600.  700.  800.  900. 1000.]\n",
      " [   0.  100.  200.  300.  400.  500.  600.  700.  800.  900. 1000.]]\n",
      "[[   0.    0.    0.    0.    0.    0.    0.    0.    0.    0.    0.]\n",
      " [ 100.  100.  100.  100.  100.  100.  100.  100.  100.  100.  100.]\n",
      " [ 200.  200.  200.  200.  200.  200.  200.  200.  200.  200.  200.]\n",
      " [ 300.  300.  300.  300.  300.  300.  300.  300.  300.  300.  300.]\n",
      " [ 400.  400.  400.  400.  400.  400.  400.  400.  400.  400.  400.]\n",
      " [ 500.  500.  500.  500.  500.  500.  500.  500.  500.  500.  500.]\n",
      " [ 600.  600.  600.  600.  600.  600.  600.  600.  600.  600.  600.]\n",
      " [ 700.  700.  700.  700.  700.  700.  700.  700.  700.  700.  700.]\n",
      " [ 800.  800.  800.  800.  800.  800.  800.  800.  800.  800.  800.]\n",
      " [ 900.  900.  900.  900.  900.  900.  900.  900.  900.  900.  900.]\n",
      " [1000. 1000. 1000. 1000. 1000. 1000. 1000. 1000. 1000. 1000. 1000.]]\n"
     ]
    }
   ],
   "source": [
    "print(easting)\n",
    "print(northing)"
   ]
  },
  {
   "cell_type": "markdown",
   "metadata": {},
   "source": [
    "Lastly, we can visualize the pixel-registered grid points to see where they fall\n",
    "within the original region bounds.\n",
    "\n"
   ]
  },
  {
   "cell_type": "code",
   "execution_count": 17,
   "metadata": {},
   "outputs": [
    {
     "data": {
      "image/png": "[encoded data removed]",
      "text/plain": [
       "<Figure size 432x432 with 1 Axes>"
      ]
     },
     "metadata": {
      "needs_background": "light"
     },
     "output_type": "display_data"
    }
   ],
   "source": [
    "plt.figure(figsize=(6, 6))\n",
    "ax = plt.subplot(111)\n",
    "plot_region(ax=ax, region=region)\n",
    "plot_grid(\n",
    "    ax=ax,\n",
    "    coordinates=(pixel_easting, pixel_northing),\n",
    "    region=region,\n",
    "    label=\"Pixel Registered Grid Nodes\",\n",
    "    marker=\">\",\n",
    "    color=\"blue\",\n",
    "    alpha=0.75,\n",
    "    s=100,\n",
    ")\n",
    "plot_grid(\n",
    "    ax=ax,\n",
    "    coordinates=(easting, northing),\n",
    "    region=region,\n",
    "    label=\"Regular Registered Grid Nodes\",\n",
    "    marker=\">\",\n",
    "    color=\"orange\",\n",
    "    alpha=0.75,\n",
    "    s=100,\n",
    ")\n",
    "\n",
    "plt.xlabel(\"Easting\")\n",
    "plt.ylabel(\"Northing\")\n",
    "plt.legend(loc=\"upper center\", bbox_to_anchor=(0.5, 1.18))\n",
    "plt.show()"
   ]
  },
  {
   "cell_type": "markdown",
   "metadata": {},
   "source": [
    "## Extra Coordinates\n",
    "\n",
    "In some cases, you might need an additional coordinate such as a height or a time\n",
    "that is associated with your coordinate grid. The ``extra_coords`` parameter\n",
    "in :func:`verde.grid_coordinates` creates an extra coordinate array that is the same\n",
    "shape as the coordinate grid, but contains a constant value.\n",
    "\n"
   ]
  },
  {
   "cell_type": "code",
   "execution_count": 18,
   "metadata": {},
   "outputs": [
    {
     "name": "stdout",
     "output_type": "stream",
     "text": [
      "(11, 11) (11, 11) (11, 11) (11, 11)\n"
     ]
    }
   ],
   "source": [
    "easting, northing, height, time = vd.grid_coordinates(\n",
    "    region=region, spacing=spacing, extra_coords=[1000, 1]\n",
    ")\n",
    "\n",
    "print(easting.shape, northing.shape, height.shape, time.shape)"
   ]
  },
  {
   "cell_type": "markdown",
   "metadata": {},
   "source": [
    "And we can print the height array to verify that it is correct\n",
    "\n"
   ]
  },
  {
   "cell_type": "code",
   "execution_count": 19,
   "metadata": {},
   "outputs": [
    {
     "name": "stdout",
     "output_type": "stream",
     "text": [
      "[[1000. 1000. 1000. 1000. 1000. 1000. 1000. 1000. 1000. 1000. 1000.]\n",
      " [1000. 1000. 1000. 1000. 1000. 1000. 1000. 1000. 1000. 1000. 1000.]\n",
      " [1000. 1000. 1000. 1000. 1000. 1000. 1000. 1000. 1000. 1000. 1000.]\n",
      " [1000. 1000. 1000. 1000. 1000. 1000. 1000. 1000. 1000. 1000. 1000.]\n",
      " [1000. 1000. 1000. 1000. 1000. 1000. 1000. 1000. 1000. 1000. 1000.]\n",
      " [1000. 1000. 1000. 1000. 1000. 1000. 1000. 1000. 1000. 1000. 1000.]\n",
      " [1000. 1000. 1000. 1000. 1000. 1000. 1000. 1000. 1000. 1000. 1000.]\n",
      " [1000. 1000. 1000. 1000. 1000. 1000. 1000. 1000. 1000. 1000. 1000.]\n",
      " [1000. 1000. 1000. 1000. 1000. 1000. 1000. 1000. 1000. 1000. 1000.]\n",
      " [1000. 1000. 1000. 1000. 1000. 1000. 1000. 1000. 1000. 1000. 1000.]\n",
      " [1000. 1000. 1000. 1000. 1000. 1000. 1000. 1000. 1000. 1000. 1000.]]\n"
     ]
    }
   ],
   "source": [
    "print(height)"
   ]
  },
  {
   "cell_type": "markdown",
   "metadata": {},
   "source": [
    "And we can print the time array as well\n",
    "\n"
   ]
  },
  {
   "cell_type": "code",
   "execution_count": 20,
   "metadata": {},
   "outputs": [
    {
     "name": "stdout",
     "output_type": "stream",
     "text": [
      "[[1. 1. 1. 1. 1. 1. 1. 1. 1. 1. 1.]\n",
      " [1. 1. 1. 1. 1. 1. 1. 1. 1. 1. 1.]\n",
      " [1. 1. 1. 1. 1. 1. 1. 1. 1. 1. 1.]\n",
      " [1. 1. 1. 1. 1. 1. 1. 1. 1. 1. 1.]\n",
      " [1. 1. 1. 1. 1. 1. 1. 1. 1. 1. 1.]\n",
      " [1. 1. 1. 1. 1. 1. 1. 1. 1. 1. 1.]\n",
      " [1. 1. 1. 1. 1. 1. 1. 1. 1. 1. 1.]\n",
      " [1. 1. 1. 1. 1. 1. 1. 1. 1. 1. 1.]\n",
      " [1. 1. 1. 1. 1. 1. 1. 1. 1. 1. 1.]\n",
      " [1. 1. 1. 1. 1. 1. 1. 1. 1. 1. 1.]\n",
      " [1. 1. 1. 1. 1. 1. 1. 1. 1. 1. 1.]]\n"
     ]
    }
   ],
   "source": [
    "print(time)"
   ]
  },
  {
   "cell_type": "code",
   "execution_count": null,
   "metadata": {},
   "outputs": [],
   "source": []
  }
 ],
 "metadata": {
  "kernelspec": {
   "display_name": "Python 3",
   "language": "python",
   "name": "python3"
  },
  "language_info": {
   "codemirror_mode": {
    "name": "ipython",
    "version": 3
   },
   "file_extension": ".py",
   "mimetype": "text/x-python",
   "name": "python",
   "nbconvert_exporter": "python",
   "pygments_lexer": "ipython3",
   "version": "3.8.3"
  }
 },
 "nbformat": 4,
 "nbformat_minor": 1
}
