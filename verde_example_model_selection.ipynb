{
 "cells": [
  {
   "cell_type": "code",
   "execution_count": 1,
   "metadata": {},
   "outputs": [],
   "source": [
    "%matplotlib inline"
   ]
  },
  {
   "cell_type": "markdown",
   "metadata": {},
   "source": [
    "\n",
    "\n",
    "# Model Selection\n",
    "\n",
    "\n"
   ]
  },
  {
   "cell_type": "code",
   "execution_count": 3,
   "metadata": {},
   "outputs": [
    {
     "name": "stderr",
     "output_type": "stream",
     "text": [
      "Downloading file 'texas-wind.csv' from 'https://github.com/fatiando/verde/raw/v1.6.1/data/texas-wind.csv' to 'C:\\Users\\sharm\\AppData\\Local\\verde\\verde\\Cache\\v1.6.1'.\n"
     ]
    }
   ],
   "source": [
    "import numpy as np\n",
    "import matplotlib.pyplot as plt\n",
    "import cartopy.crs as ccrs\n",
    "import itertools\n",
    "import pyproj\n",
    "import verde as vd\n",
    "\n",
    "data = vd.datasets.fetch_texas_wind()\n",
    "\n",
    "# Use Mercator projection because Spline is a Cartesian gridder\n",
    "projection = pyproj.Proj(proj=\"merc\", lat_ts=data.latitude.mean())\n",
    "proj_coords = projection(data.longitude.values, data.latitude.values)\n",
    "\n",
    "region = vd.get_region((data.longitude, data.latitude))\n",
    "# The desired grid spacing in degrees (converted to meters using 1 degree approx. 111km)\n",
    "spacing = 15 / 60"
   ]
  },
  {
   "cell_type": "markdown",
   "metadata": {},
   "source": [
    "Before we begin tuning, let's reiterate what the results were with the default\n",
    "parameters.\n",
    "\n"
   ]
  },
  {
   "cell_type": "code",
   "execution_count": 4,
   "metadata": {},
   "outputs": [
    {
     "name": "stdout",
     "output_type": "stream",
     "text": [
      "R² with defaults: 0.796036885482746\n"
     ]
    }
   ],
   "source": [
    "spline_default = vd.Spline()\n",
    "score_default = np.mean(\n",
    "    vd.cross_val_score(spline_default, proj_coords, data.air_temperature_c)\n",
    ")\n",
    "spline_default.fit(proj_coords, data.air_temperature_c)\n",
    "print(\"R² with defaults:\", score_default)"
   ]
  },
  {
   "cell_type": "markdown",
   "metadata": {},
   "source": [
    "## Tuning\n",
    "\n",
    ":class:`~verde.Spline` has many parameters that can be set to modify the final result.\n",
    "Mainly the ``damping`` regularization parameter and the ``mindist`` \"fudge factor\"\n",
    "which smooths the solution.\n",
    "\n"
   ]
  },
  {
   "cell_type": "code",
   "execution_count": 5,
   "metadata": {},
   "outputs": [
    {
     "name": "stdout",
     "output_type": "stream",
     "text": [
      "Number of combinations: 16\n",
      "Combinations: [{'damping': None, 'mindist': 5000.0}, {'damping': None, 'mindist': 10000.0}, {'damping': None, 'mindist': 50000.0}, {'damping': None, 'mindist': 100000.0}, {'damping': 0.0001, 'mindist': 5000.0}, {'damping': 0.0001, 'mindist': 10000.0}, {'damping': 0.0001, 'mindist': 50000.0}, {'damping': 0.0001, 'mindist': 100000.0}, {'damping': 0.001, 'mindist': 5000.0}, {'damping': 0.001, 'mindist': 10000.0}, {'damping': 0.001, 'mindist': 50000.0}, {'damping': 0.001, 'mindist': 100000.0}, {'damping': 0.01, 'mindist': 5000.0}, {'damping': 0.01, 'mindist': 10000.0}, {'damping': 0.01, 'mindist': 50000.0}, {'damping': 0.01, 'mindist': 100000.0}]\n"
     ]
    }
   ],
   "source": [
    "dampings = [None, 1e-4, 1e-3, 1e-2]\n",
    "mindists = [5e3, 10e3, 50e3, 100e3]\n",
    "\n",
    "# Use itertools to create a list with all combinations of parameters to test\n",
    "parameter_sets = [\n",
    "    dict(damping=combo[0], mindist=combo[1])\n",
    "    for combo in itertools.product(dampings, mindists)\n",
    "]\n",
    "print(\"Number of combinations:\", len(parameter_sets))\n",
    "print(\"Combinations:\", parameter_sets)"
   ]
  },
  {
   "cell_type": "markdown",
   "metadata": {},
   "source": [
    "Now we can loop over the combinations and collect the scores for each parameter set.\n",
    "\n"
   ]
  },
  {
   "cell_type": "code",
   "execution_count": 6,
   "metadata": {},
   "outputs": [
    {
     "name": "stdout",
     "output_type": "stream",
     "text": [
      "[-6.672752082907465, 0.48454031729297853, 0.8383522700289824, 0.8371988991061127, 0.8351153077361344, 0.8316607509398537, 0.849262993054378, 0.8418400888039852, 0.8371795091867389, 0.8412200336704057, 0.8529555082418581, 0.852172766760899, 0.8401945161936075, 0.8330182923874666, 0.844170645856404, 0.8491145591355839]\n"
     ]
    }
   ],
   "source": [
    "spline = vd.Spline()\n",
    "scores = []\n",
    "for params in parameter_sets:\n",
    "    spline.set_params(**params)\n",
    "    score = np.mean(vd.cross_val_score(spline, proj_coords, data.air_temperature_c))\n",
    "    scores.append(score)\n",
    "print(scores)"
   ]
  },
  {
   "cell_type": "markdown",
   "metadata": {},
   "source": [
    "The largest score will yield the best parameter combination.\n",
    "\n"
   ]
  },
  {
   "cell_type": "code",
   "execution_count": 7,
   "metadata": {},
   "outputs": [
    {
     "name": "stdout",
     "output_type": "stream",
     "text": [
      "Best score: 0.8529555082418581\n",
      "Score with defaults: 0.796036885482746\n",
      "Best parameters: {'damping': 0.001, 'mindist': 50000.0}\n"
     ]
    }
   ],
   "source": [
    "best = np.argmax(scores)\n",
    "print(\"Best score:\", scores[best])\n",
    "print(\"Score with defaults:\", score_default)\n",
    "print(\"Best parameters:\", parameter_sets[best])"
   ]
  },
  {
   "cell_type": "markdown",
   "metadata": {},
   "source": [
    "## Cross-validated gridders\n",
    "\n",
    "The :class:`verde.SplineCV` class provides a cross-validated version of\n",
    ":class:`verde.Spline`. It has almost the same interface but does all of the above\n",
    "automatically when fitting a dataset. The only difference is that you must provide a\n",
    "list of ``damping`` and ``mindist`` parameters to try instead of only a single value:\n",
    "\n"
   ]
  },
  {
   "cell_type": "code",
   "execution_count": 8,
   "metadata": {},
   "outputs": [],
   "source": [
    "spline = vd.SplineCV(\n",
    "    dampings=dampings,\n",
    "    mindists=mindists,\n",
    ")"
   ]
  },
  {
   "cell_type": "markdown",
   "metadata": {},
   "source": [
    "Calling :meth:`~verde.SplineCV.fit` will run a grid search over all parameter\n",
    "combinations to find the one that maximizes the cross-validation score.\n",
    "\n"
   ]
  },
  {
   "cell_type": "code",
   "execution_count": 9,
   "metadata": {},
   "outputs": [
    {
     "data": {
      "text/plain": [
       "SplineCV(dampings=[None, 0.0001, 0.001, 0.01],\n",
       "         mindists=[5000.0, 10000.0, 50000.0, 100000.0])"
      ]
     },
     "execution_count": 9,
     "metadata": {},
     "output_type": "execute_result"
    }
   ],
   "source": [
    "spline.fit(proj_coords, data.air_temperature_c)"
   ]
  },
  {
   "cell_type": "markdown",
   "metadata": {},
   "source": [
    "The estimated best damping and mindist, as well as the cross-validation\n",
    "scores, are stored in class attributes:\n",
    "\n"
   ]
  },
  {
   "cell_type": "code",
   "execution_count": 10,
   "metadata": {},
   "outputs": [
    {
     "name": "stdout",
     "output_type": "stream",
     "text": [
      "Highest score: 0.8529555082418581\n",
      "Best damping: 0.001\n",
      "Best mindist: 50000.0\n"
     ]
    }
   ],
   "source": [
    "print(\"Highest score:\", spline.scores_.max())\n",
    "print(\"Best damping:\", spline.damping_)\n",
    "print(\"Best mindist:\", spline.mindist_)"
   ]
  },
  {
   "cell_type": "markdown",
   "metadata": {},
   "source": [
    "The cross-validated gridder can be used like any other gridder (including in\n",
    ":class:`verde.Chain` and :class:`verde.Vector`):\n",
    "\n"
   ]
  },
  {
   "cell_type": "code",
   "execution_count": 11,
   "metadata": {},
   "outputs": [
    {
     "name": "stdout",
     "output_type": "stream",
     "text": [
      "<xarray.Dataset>\n",
      "Dimensions:      (latitude: 43, longitude: 51)\n",
      "Coordinates:\n",
      "  * longitude    (longitude) float64 -106.4 -106.1 -105.9 ... -94.06 -93.8\n",
      "  * latitude     (latitude) float64 25.91 26.16 26.41 ... 35.91 36.16 36.41\n",
      "Data variables:\n",
      "    temperature  (latitude, longitude) float64 19.42 19.42 19.43 ... 7.536 7.765\n",
      "Attributes:\n",
      "    metadata:  Generated by SplineCV(dampings=[None, 0.0001, 0.001, 0.01],\\n ...\n"
     ]
    }
   ],
   "source": [
    "grid = spline.grid(\n",
    "    region=region,\n",
    "    spacing=spacing,\n",
    "    projection=projection,\n",
    "    dims=[\"latitude\", \"longitude\"],\n",
    "    data_names=\"temperature\",\n",
    ")\n",
    "print(grid)"
   ]
  },
  {
   "cell_type": "markdown",
   "metadata": {},
   "source": [
    "Like :func:`verde.cross_val_score`, :class:`~verde.SplineCV` can also run the\n",
    "grid search in parallel using `Dask <https://dask.org/>`__ by specifying the\n",
    "``delayed`` attribute:\n",
    "\n"
   ]
  },
  {
   "cell_type": "code",
   "execution_count": 12,
   "metadata": {},
   "outputs": [],
   "source": [
    "spline = vd.SplineCV(dampings=dampings, mindists=mindists, delayed=True)"
   ]
  },
  {
   "cell_type": "markdown",
   "metadata": {},
   "source": [
    "Unlike :func:`verde.cross_val_score`, calling :meth:`~verde.SplineCV.fit`\n",
    "does **not** result in :func:`dask.delayed` objects. The full grid search is\n",
    "executed and the optimal parameters are found immediately.\n",
    "\n"
   ]
  },
  {
   "cell_type": "code",
   "execution_count": 13,
   "metadata": {},
   "outputs": [
    {
     "name": "stdout",
     "output_type": "stream",
     "text": [
      "Best damping: 0.001\n",
      "Best mindist: 50000.0\n"
     ]
    }
   ],
   "source": [
    "spline.fit(proj_coords, data.air_temperature_c)\n",
    "\n",
    "print(\"Best damping:\", spline.damping_)\n",
    "print(\"Best mindist:\", spline.mindist_)"
   ]
  },
  {
   "cell_type": "markdown",
   "metadata": {},
   "source": [
    "The one caveat is the that the ``scores_`` attribute will be a list of\n",
    ":func:`dask.delayed` objects instead because the scores are only computed as\n",
    "intermediate values in the scheduled computations.\n",
    "\n"
   ]
  },
  {
   "cell_type": "code",
   "execution_count": 14,
   "metadata": {},
   "outputs": [
    {
     "name": "stdout",
     "output_type": "stream",
     "text": [
      "Delayed scores: [Delayed('mean-8c8375a1-12b0-4327-9ab1-74098396f5b6'), Delayed('mean-53245cb6-9ce4-4b16-8c1d-f80432de54de'), Delayed('mean-948c31ac-4737-4258-9c5f-40db4e2c6f74'), Delayed('mean-73a61014-fd6f-4e2e-88b4-438b13a5fbd8'), Delayed('mean-d53a27ab-2c19-48ff-8911-b66fb7d8180c'), Delayed('mean-7a1fdbc6-68e2-4f39-b4ff-4c3b8419ef68'), Delayed('mean-fbbfd5ef-9d4c-48b9-ae7d-8dec495bc1b7'), Delayed('mean-282126e0-ef8b-4ceb-8e8d-394e6f1d9e24'), Delayed('mean-a482da66-8448-423b-bd31-d6f63e451c3b'), Delayed('mean-8a28470d-5e28-49bf-8c4b-215f985a3fd1'), Delayed('mean-50bb6bff-7c81-42b0-9640-c935f72ef3b2'), Delayed('mean-baba8b0f-3387-4e05-852b-1ea4fe8332fc'), Delayed('mean-6d4c2f91-83b2-4218-861d-3f726ea5cec0'), Delayed('mean-25dc3b25-3d67-4512-87f6-361cfa1a646f'), Delayed('mean-9da90c50-3d05-4cb1-86c1-cce47e07eaa4'), Delayed('mean-de6db905-c21e-4912-a5a9-3abcdd9cbbb5')]\n"
     ]
    }
   ],
   "source": [
    "print(\"Delayed scores:\", spline.scores_)"
   ]
  },
  {
   "cell_type": "markdown",
   "metadata": {},
   "source": [
    "Calling :func:`dask.compute` on the scores will calculate their values but\n",
    "will unfortunately run the entire grid search again. So using\n",
    "``delayed=True`` is not recommended if you need the scores of each parameter\n",
    "combination.\n",
    "\n"
   ]
  }
 ],
 "metadata": {
  "kernelspec": {
   "display_name": "Python 3",
   "language": "python",
   "name": "python3"
  },
  "language_info": {
   "codemirror_mode": {
    "name": "ipython",
    "version": 3
   },
   "file_extension": ".py",
   "mimetype": "text/x-python",
   "name": "python",
   "nbconvert_exporter": "python",
   "pygments_lexer": "ipython3",
   "version": "3.8.3"
  }
 },
 "nbformat": 4,
 "nbformat_minor": 1
}
